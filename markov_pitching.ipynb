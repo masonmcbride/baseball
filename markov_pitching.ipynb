{
 "cells": [
  {
   "cell_type": "code",
   "execution_count": 1,
   "id": "b8c9906c",
   "metadata": {},
   "outputs": [],
   "source": [
    "import pybaseball as bb\n",
    "import pandas as pd\n",
    "import numpy as np\n",
    "import matplotlib.pyplot as plt"
   ]
  },
  {
   "cell_type": "code",
   "execution_count": 2,
   "id": "2fffd31c",
   "metadata": {},
   "outputs": [],
   "source": [
    "start_dt = '2021-04-01'\n",
    "end_dt = '2021-10-3'\n",
    "pitchers_2021 = bb.pitching_stats_bref(2021).sort_values(by='IP', ascending=False)"
   ]
  },
  {
   "cell_type": "code",
   "execution_count": 3,
   "id": "d9ff1c41",
   "metadata": {},
   "outputs": [],
   "source": [
    "def on_base_count(row: pd.Series) -> int:\n",
    "    return sum(np.isfinite([row.on_1b, row.on_2b, row.on_3b]))\n",
    "\n",
    "def generate(player_id: np.float64) -> pd.DataFrame:\n",
    "    data = bb.statcast_pitcher(start_dt, end_dt, player_id)\n",
    "    data = data[['player_name', 'batter', 'game_date', 'at_bat_number', \n",
    "                 'balls', 'strikes', 'pitch_name', 'on_3b', 'on_2b', 'on_1b']]\n",
    "    data['on_base_count'] = data.apply(lambda row: on_base_count(row), axis=1)\n",
    "    return data\n",
    "\n",
    "def get_data(first: str, last: str) -> pd.DataFrame:\n",
    "    try:\n",
    "        l = bb.playerid_lookup(last, first)\n",
    "        return generate(l['key_mlbam'][0])\n",
    "    except KeyError:\n",
    "        return None"
   ]
  },
  {
   "cell_type": "code",
   "execution_count": 4,
   "id": "9ed56704",
   "metadata": {},
   "outputs": [],
   "source": [
    "def count_transitions(count: list) -> np.array:\n",
    "    it = reversed(count)\n",
    "    prev = next(it)\n",
    "    out = np.zeros((4,4))\n",
    "    for item in it:\n",
    "        out[prev][item] += 1\n",
    "        prev = item\n",
    "    return out\n",
    "\n",
    "def limiting_distribution(count: pd.Series, num_simulations: int = 100000) -> np.array:\n",
    "    if count is not None:\n",
    "        transitions = count_transitions(count['on_base_count'])   \n",
    "        transitions_sum = transitions.sum(axis=1)\n",
    "        transitions_sum = np.array([value if value else 1.0 for value in transitions_sum])\n",
    "        probs = transitions / transitions_sum[:, np.newaxis]\n",
    "        initial_state = [1, 0, 0, 0]\n",
    "    \n",
    "        return simulate(initial_state, probs, num_simulations)\n",
    "    else:\n",
    "        return None\n",
    "\n",
    "def simulate(state, pi, i):\n",
    "    for _ in range(i):\n",
    "        state = np.dot(state, pi)\n",
    "    return state\n",
    "\n",
    "class Player:\n",
    "    \n",
    "    def __init__(self, first, last):\n",
    "        self.first = first\n",
    "        self.last = last\n",
    "        self.data = get_data(self.first, self.last)\n",
    "        self.pi = limiting_distribution(self.data, num_simulations = 100000)"
   ]
  },
  {
   "cell_type": "code",
   "execution_count": 5,
   "id": "45dcc642",
   "metadata": {},
   "outputs": [
    {
     "name": "stdout",
     "output_type": "stream",
     "text": [
      "Gathering player lookup table. This may take a moment.\n",
      "Gathering Player Data\n",
      "Gathering Player Data\n",
      "Gathering Player Data\n",
      "Gathering Player Data\n",
      "Gathering Player Data\n",
      "Gathering Player Data\n"
     ]
    }
   ],
   "source": [
    "woodruff = Player('brandon', 'woodruff')\n",
    "bauer = Player('trevor', 'bauer')\n",
    "scherzer = Player('max', 'scherzer')\n",
    "lyles = Player('jordan', 'lyles')\n",
    "gant = Player('john', 'gant')\n",
    "test = Player('kyle', 'hendricks')"
   ]
  },
  {
   "cell_type": "code",
   "execution_count": 6,
   "id": "8e9dac2c",
   "metadata": {},
   "outputs": [
    {
     "name": "stdout",
     "output_type": "stream",
     "text": [
      "Gathering Player Data\n",
      "Gathering Player Data\n",
      "Gathering Player Data\n",
      "Gathering Player Data\n",
      "Gathering Player Data\n",
      "Gathering Player Data\n",
      "Gathering Player Data\n",
      "Gathering Player Data\n",
      "Gathering Player Data\n",
      "Gathering Player Data\n",
      "Gathering Player Data\n",
      "Gathering Player Data\n",
      "Gathering Player Data\n",
      "Gathering Player Data\n",
      "Gathering Player Data\n",
      "Gathering Player Data\n",
      "Gathering Player Data\n",
      "Gathering Player Data\n",
      "Gathering Player Data\n",
      "Gathering Player Data\n",
      "Gathering Player Data\n",
      "Gathering Player Data\n",
      "Gathering Player Data\n",
      "Gathering Player Data\n",
      "Gathering Player Data\n",
      "Gathering Player Data\n",
      "Gathering Player Data\n",
      "Gathering Player Data\n",
      "Gathering Player Data\n",
      "Gathering Player Data\n",
      "Gathering Player Data\n",
      "Gathering Player Data\n",
      "Gathering Player Data\n",
      "Gathering Player Data\n",
      "Gathering Player Data\n",
      "Gathering Player Data\n",
      "Gathering Player Data\n",
      "Gathering Player Data\n",
      "Gathering Player Data\n",
      "Gathering Player Data\n",
      "Gathering Player Data\n",
      "Gathering Player Data\n",
      "Gathering Player Data\n",
      "Gathering Player Data\n",
      "Gathering Player Data\n",
      "Gathering Player Data\n",
      "Gathering Player Data\n",
      "Gathering Player Data\n",
      "Gathering Player Data\n"
     ]
    }
   ],
   "source": [
    "names = [ tuple(name.split()) for name in pitchers_2021['Name'][:50] ]\n",
    "pitchers = [ Player(first, last) for first, last in names ]\n",
    "pitchers = np.array([ pitcher for pitcher in pitchers if pitcher.pi is not None ])"
   ]
  },
  {
   "cell_type": "code",
   "execution_count": 7,
   "id": "4fad2f53",
   "metadata": {},
   "outputs": [
    {
     "ename": "NameError",
     "evalue": "name 'homers' is not defined",
     "output_type": "error",
     "traceback": [
      "\u001b[0;31m---------------------------------------------------------------------------\u001b[0m",
      "\u001b[0;31mNameError\u001b[0m                                 Traceback (most recent call last)",
      "\u001b[0;32m<ipython-input-7-a66ece50eef9>\u001b[0m in \u001b[0;36m<module>\u001b[0;34m\u001b[0m\n\u001b[1;32m      1\u001b[0m \u001b[0mpis\u001b[0m \u001b[0;34m=\u001b[0m \u001b[0mnp\u001b[0m\u001b[0;34m.\u001b[0m\u001b[0marray\u001b[0m\u001b[0;34m(\u001b[0m\u001b[0;34m[\u001b[0m\u001b[0mpitcher\u001b[0m\u001b[0;34m.\u001b[0m\u001b[0mpi\u001b[0m \u001b[0;32mfor\u001b[0m \u001b[0mpitcher\u001b[0m \u001b[0;32min\u001b[0m \u001b[0mpitchers\u001b[0m\u001b[0;34m]\u001b[0m\u001b[0;34m)\u001b[0m\u001b[0;34m\u001b[0m\u001b[0;34m\u001b[0m\u001b[0m\n\u001b[0;32m----> 2\u001b[0;31m \u001b[0mscores\u001b[0m \u001b[0;34m=\u001b[0m \u001b[0mnp\u001b[0m\u001b[0;34m.\u001b[0m\u001b[0mdot\u001b[0m\u001b[0;34m(\u001b[0m\u001b[0mhomers\u001b[0m\u001b[0;34m,\u001b[0m \u001b[0mpis\u001b[0m\u001b[0;34m.\u001b[0m\u001b[0mT\u001b[0m\u001b[0;34m)\u001b[0m\u001b[0;34m.\u001b[0m\u001b[0mflatten\u001b[0m\u001b[0;34m(\u001b[0m\u001b[0;34m)\u001b[0m\u001b[0;34m\u001b[0m\u001b[0;34m\u001b[0m\u001b[0m\n\u001b[0m",
      "\u001b[0;31mNameError\u001b[0m: name 'homers' is not defined"
     ]
    }
   ],
   "source": [
    "pis = np.array([pitcher.pi for pitcher in pitchers])\n",
    "scores = np.dot(homers, pis.T).flatten()"
   ]
  },
  {
   "cell_type": "code",
   "execution_count": null,
   "id": "de489499",
   "metadata": {},
   "outputs": [],
   "source": [
    "hrv = {pitcher.first + ' ' + pitcher.last: value for pitcher, value in zip(list(pitchers), scores)}\n",
    "HRV = pd.DataFrame(hrv.items(), columns = ['Name', 'HRM'])\n",
    "players = pitchers_2021[:50]\n",
    "players = players[players['Name'] != 'Kyle Hendricks']\n",
    "HRV['HR'] = list(players['HR'])\n",
    "HRV['IP'] = list(players['IP'])\n",
    "HRV['HRM*HR'] = HRV.apply(lambda row: row.HRM * row.HR, axis = 1)"
   ]
  },
  {
   "cell_type": "code",
   "execution_count": null,
   "id": "28247eb9",
   "metadata": {},
   "outputs": [],
   "source": [
    "HRV.sort_values(by='HRM')"
   ]
  },
  {
   "cell_type": "code",
   "execution_count": null,
   "id": "556958b5",
   "metadata": {},
   "outputs": [],
   "source": [
    "HRV.to_csv(f'/Users/mason/w/cs/fun/baseball/data/pitching/HRV_2021.csv')"
   ]
  }
 ],
 "metadata": {
  "kernelspec": {
   "display_name": "Python 3",
   "language": "python",
   "name": "python3"
  },
  "language_info": {
   "codemirror_mode": {
    "name": "ipython",
    "version": 3
   },
   "file_extension": ".py",
   "mimetype": "text/x-python",
   "name": "python",
   "nbconvert_exporter": "python",
   "pygments_lexer": "ipython3",
   "version": "3.9.4"
  }
 },
 "nbformat": 4,
 "nbformat_minor": 5
}
