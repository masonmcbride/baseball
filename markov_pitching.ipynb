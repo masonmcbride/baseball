{
 "cells": [
  {
   "cell_type": "code",
   "execution_count": 1,
   "id": "b8c9906c",
   "metadata": {},
   "outputs": [],
   "source": [
    "import pybaseball as bb\n",
    "import pandas as pd\n",
    "import numpy as np\n",
    "import matplotlib.pyplot as plt"
   ]
  },
  {
   "cell_type": "code",
   "execution_count": 2,
   "id": "2fffd31c",
   "metadata": {},
   "outputs": [],
   "source": [
    "start_dt = '2021-04-01'\n",
    "end_dt = '2021-10-3'"
   ]
  },
  {
   "cell_type": "code",
   "execution_count": 3,
   "id": "d9ff1c41",
   "metadata": {},
   "outputs": [],
   "source": [
    "def on_base_count(row: pd.Series) -> int:\n",
    "    return sum(np.isfinite([row.on_1b, row.on_2b, row.on_3b]))\n",
    "\n",
    "def generate(player_id: np.float64) -> pd.DataFrame:\n",
    "    data = bb.statcast_pitcher(start_dt, end_dt, player_id)\n",
    "    data = data[['player_name', 'batter', 'game_date', 'at_bat_number', \n",
    "                 'balls', 'strikes', 'pitch_name', 'on_3b', 'on_2b', 'on_1b']]\n",
    "    data['on_base_count'] = data.apply(lambda row: on_base_count(row), axis=1)\n",
    "    return data\n",
    "\n",
    "def get_data(first: str, last: str) -> pd.DataFrame:\n",
    "    l = bb.playerid_lookup(last, first)\n",
    "    \n",
    "    return generate(l['key_mlbam'][0])"
   ]
  },
  {
   "cell_type": "code",
   "execution_count": 4,
   "id": "9ed56704",
   "metadata": {},
   "outputs": [],
   "source": [
    "def count_transitions(count: list) -> np.array:\n",
    "    it = reversed(count)\n",
    "    prev = next(it)\n",
    "    out = np.zeros((4,4))\n",
    "    for item in it:\n",
    "        out[prev][item] += 1\n",
    "        prev = item\n",
    "    return out\n",
    "\n",
    "def limiting_distribution(count: pd.Series, num_simulations: int = 100000) -> np.array:\n",
    "    transitions = count_transitions(count)   \n",
    "    transitions_sum = transitions.sum(axis=1)\n",
    "    transitions_sum = np.array([value if value else 1.0 for value in transitions_sum])\n",
    "    probs = transitions / transitions_sum[:, np.newaxis]\n",
    "    initial_state = [1, 0, 0, 0]\n",
    "    \n",
    "    return simulate(initial_state, probs, num_simulations)\n",
    "\n",
    "def simulate(state, pi, i):\n",
    "    for _ in range(i):\n",
    "        state = np.dot(state, pi)\n",
    "    return state\n",
    "\n",
    "class Player:\n",
    "    \n",
    "    def __init__(self, first, last):\n",
    "        self.first = first\n",
    "        self.last = last\n",
    "        self.data = get_data(self.first, self.last)\n",
    "        self.pi = limiting_distribution(self.data['on_base_count'], num_simulations = 100000)"
   ]
  },
  {
   "cell_type": "code",
   "execution_count": 5,
   "id": "45dcc642",
   "metadata": {},
   "outputs": [
    {
     "name": "stdout",
     "output_type": "stream",
     "text": [
      "Gathering player lookup table. This may take a moment.\n",
      "Gathering Player Data\n",
      "Gathering Player Data\n",
      "Gathering Player Data\n",
      "Gathering Player Data\n",
      "Gathering Player Data\n"
     ]
    }
   ],
   "source": [
    "woodruff = Player('brandon', 'woodruff')\n",
    "bauer = Player('trevor', 'bauer')\n",
    "scherzer = Player('max', 'scherzer')\n",
    "lyles = Player('jordan', 'lyles')\n",
    "gant = Player('john', 'gant')"
   ]
  },
  {
   "cell_type": "code",
   "execution_count": 6,
   "id": "de84806c",
   "metadata": {
    "scrolled": true
   },
   "outputs": [],
   "source": [
    "pitchers = [\n",
    "    woodruff,\n",
    "    bauer,\n",
    "    scherzer, \n",
    "    lyles, \n",
    "    gant\n",
    "]"
   ]
  },
  {
   "cell_type": "code",
   "execution_count": 7,
   "id": "361830e5",
   "metadata": {},
   "outputs": [
    {
     "data": {
      "text/plain": [
       "[array([0.70719844, 0.2266537 , 0.06614786, 0.        ]),\n",
       " array([0.71132376, 0.20334928, 0.07097289, 0.01435407]),\n",
       " array([0.6917363 , 0.24419684, 0.0371402 , 0.02692665]),\n",
       " array([0.54326396, 0.30996714, 0.13253012, 0.01423877]),\n",
       " array([0.51341015, 0.29952556, 0.13826491, 0.04879938])]"
      ]
     },
     "execution_count": 7,
     "metadata": {},
     "output_type": "execute_result"
    }
   ],
   "source": [
    "[pitcher.pi for pitcher in pitchers]"
   ]
  },
  {
   "cell_type": "code",
   "execution_count": null,
   "id": "8e9dac2c",
   "metadata": {},
   "outputs": [],
   "source": []
  }
 ],
 "metadata": {
  "kernelspec": {
   "display_name": "Python 3",
   "language": "python",
   "name": "python3"
  },
  "language_info": {
   "codemirror_mode": {
    "name": "ipython",
    "version": 3
   },
   "file_extension": ".py",
   "mimetype": "text/x-python",
   "name": "python",
   "nbconvert_exporter": "python",
   "pygments_lexer": "ipython3",
   "version": "3.9.4"
  }
 },
 "nbformat": 4,
 "nbformat_minor": 5
}
