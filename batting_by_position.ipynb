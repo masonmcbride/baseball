{
 "cells": [
  {
   "cell_type": "code",
   "execution_count": 1,
   "id": "23f3610a",
   "metadata": {},
   "outputs": [],
   "source": [
    "import pybaseball as bb\n",
    "import pandas as pd\n",
    "import numpy as np"
   ]
  },
  {
   "cell_type": "markdown",
   "id": "3256ea02",
   "metadata": {},
   "source": [
    "Returns the batting average of each position  from 2019 season\n",
    "\n",
    "Batter must have a min of 50 at-bats (AB) \n",
    "\n",
    "\n",
    "IDEA: plot positonal batting average over time"
   ]
  },
  {
   "cell_type": "code",
   "execution_count": 2,
   "id": "b24085c2",
   "metadata": {},
   "outputs": [],
   "source": [
    "# initialize global variables\n",
    "start_dt = '2019-03-19'\n",
    "end_dt = '2019-10-31'\n",
    "\n",
    "def get_position(name: str, year: int = 2019) -> str:\n",
    "    soup = bb.split_stats.get_split_soup(player_ids[0], year)\n",
    "    info = bb.split_stats.get_player_info(player_ids[0], soup)\n",
    "    return info['Position']"
   ]
  },
  {
   "cell_type": "code",
   "execution_count": 3,
   "id": "9c79136d",
   "metadata": {},
   "outputs": [],
   "source": [
    "# retrieve batting stats\n",
    "batting = bb.batting_stats_range(start_dt, end_dt)\n",
    "# filter by min 50 AB\n",
    "batting = batting[batting['AB'] > 50]"
   ]
  },
  {
   "cell_type": "code",
   "execution_count": 4,
   "id": "1fd21561",
   "metadata": {},
   "outputs": [],
   "source": [
    "# get list of (last_name, first_name) tuples of all players\n",
    "players = list(batting['Name'])\n",
    "players = [name.split() for name in players]\n",
    "players = [(name[1], name[0]) for name in players]"
   ]
  },
  {
   "cell_type": "code",
   "execution_count": 5,
   "id": "c172c718",
   "metadata": {},
   "outputs": [
    {
     "name": "stdout",
     "output_type": "stream",
     "text": [
      "Gathering player lookup table. This may take a moment.\n"
     ]
    }
   ],
   "source": [
    "# retrieve player IDs of each player in players\n",
    "player_ids = bb.player_search_list(players)\n",
    "# trim player_ids for only ids that are active during 2019\n",
    "player_ids = player_ids[player_ids['mlb_played_first'] <= 2019]\n",
    "player_ids = player_ids[player_ids['mlb_played_last'] >= 2019]\n",
    "\n",
    "# player_ids = list(player_ids['key_bbref'])"
   ]
  },
  {
   "cell_type": "markdown",
   "id": "1a1c54c4",
   "metadata": {},
   "source": [
    "I now have every player's id, batting average, and position\n",
    "\n",
    "TODO: Group the players by position and average the batting average"
   ]
  },
  {
   "cell_type": "code",
   "execution_count": 6,
   "id": "c1a87535",
   "metadata": {},
   "outputs": [],
   "source": [
    "def get_position(player_id: int, year: int = 2019) -> str:\n",
    "    soup = bb.split_stats.get_split_soup(player_id, year)\n",
    "    info = bb.split_stats.get_player_info(player_id, soup)\n",
    "    return info['Position']"
   ]
  },
  {
   "cell_type": "code",
   "execution_count": 7,
   "id": "71851a4c",
   "metadata": {},
   "outputs": [],
   "source": [
    "id_names = []\n",
    "for i in range(len(batting)):\n",
    "    name = batting.iloc[i]['Name']\n",
    "    id_name = ' '.join(name.split()[:2]).lower()\n",
    "    id_names.append(id_name)"
   ]
  },
  {
   "cell_type": "raw",
   "id": "1f259486",
   "metadata": {},
   "source": [
    "positions = []\n",
    "for i in range(len(batting)):\n",
    "    if i % 50 == 0:\n",
    "        print(f\"{i}/{len(batting)}\")\n",
    "    name = batting.iloc[i]['id_name']\n",
    "    player_id = player_ids.loc[player_ids['Name'] == name]['key_bbref']\n",
    "    if len(player_id.values) == 0:\n",
    "        positions.append('N/A')\n",
    "    else:\n",
    "        position = get_position(player_id.values[0])\n",
    "        positions.append(position)"
   ]
  },
  {
   "cell_type": "code",
   "execution_count": null,
   "id": "fe7e7679",
   "metadata": {},
   "outputs": [],
   "source": [
    "for i, position in enumerate(positions):\n",
    "    p = position.split()\n",
    "    if len(p) == 1 or p[1] != 'Baseman':\n",
    "        positions[i] = p[0]\n",
    "    else:\n",
    "        positions[i] = ' '.join(p[:2])"
   ]
  },
  {
   "cell_type": "code",
   "execution_count": null,
   "id": "16cb5273",
   "metadata": {},
   "outputs": [],
   "source": [
    "batting['Position'] = positions"
   ]
  },
  {
   "cell_type": "code",
   "execution_count": null,
   "id": "e16469ad",
   "metadata": {},
   "outputs": [],
   "source": [
    "batting_by_position_2019 = batting.groupby(['Position']).mean()\n",
    "batting_by_position_2019 = batting_by_position_2019.drop(['N/A', 'Played'])"
   ]
  },
  {
   "cell_type": "code",
   "execution_count": null,
   "id": "4f959764",
   "metadata": {},
   "outputs": [],
   "source": [
    "batting_by_position_2019.to_csv('/Users/mason/w/cs/fun/baseball/data/batting_by_position_2019.csv')"
   ]
  },
  {
   "cell_type": "code",
   "execution_count": 10,
   "id": "82c1a80c",
   "metadata": {},
   "outputs": [],
   "source": [
    "bbp = pd.read_csv('/Users/mason/w/cs/fun/baseball/data/batting_by_position_2019.csv')"
   ]
  },
  {
   "cell_type": "code",
   "execution_count": 12,
   "id": "e35696ff",
   "metadata": {},
   "outputs": [
    {
     "data": {
      "text/plain": [
       "Index(['Position', 'Age', '#days', 'G', 'PA', 'AB', 'R', 'H', '2B', '3B', 'HR',\n",
       "       'RBI', 'BB', 'IBB', 'SO', 'HBP', 'SH', 'SF', 'GDP', 'SB', 'CS', 'BA',\n",
       "       'OBP', 'SLG', 'OPS'],\n",
       "      dtype='object')"
      ]
     },
     "execution_count": 12,
     "metadata": {},
     "output_type": "execute_result"
    }
   ],
   "source": [
    "bbp.columns"
   ]
  },
  {
   "cell_type": "code",
   "execution_count": null,
   "id": "88b34614",
   "metadata": {},
   "outputs": [],
   "source": [
    "pithcers.apply"
   ]
  }
 ],
 "metadata": {
  "kernelspec": {
   "display_name": "Python 3",
   "language": "python",
   "name": "python3"
  },
  "language_info": {
   "codemirror_mode": {
    "name": "ipython",
    "version": 3
   },
   "file_extension": ".py",
   "mimetype": "text/x-python",
   "name": "python",
   "nbconvert_exporter": "python",
   "pygments_lexer": "ipython3",
   "version": "3.9.4"
  }
 },
 "nbformat": 4,
 "nbformat_minor": 5
}
